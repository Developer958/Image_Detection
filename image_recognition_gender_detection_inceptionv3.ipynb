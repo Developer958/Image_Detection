{
  "cells": [
    {
      "cell_type": "markdown",
      "metadata": {
        "id": "view-in-github",
        "colab_type": "text"
      },
      "source": [
        "<a href=\"https://colab.research.google.com/github/Developer958/Image_Detection/blob/main/image_recognition_gender_detection_inceptionv3.ipynb\" target=\"_parent\"><img src=\"https://colab.research.google.com/assets/colab-badge.svg\" alt=\"Open In Colab\"/></a>"
      ]
    },
    {
      "cell_type": "markdown",
      "metadata": {
        "_uuid": "cba9cc1ea22168a0da81d39181ef5da1951cb1f4",
        "id": "54XlRkv395KH"
      },
      "source": [
        "### Import libraries"
      ]
    },
    {
      "cell_type": "code",
      "execution_count": null,
      "metadata": {
        "_uuid": "49d886506abe4d6d3ec2729036966a0729ee56d8",
        "id": "CYgLRU4u95KJ"
      },
      "outputs": [],
      "source": [
        "import pandas as pd\n",
        "import numpy as np\n",
        "import cv2    \n",
        "import matplotlib.pyplot as plt\n",
        "import seaborn as sns\n",
        "from sklearn.metrics import f1_score\n",
        "\n",
        "from keras.applications.inception_v3 import InceptionV3, preprocess_input\n",
        "from keras import optimizers\n",
        "from keras.models import Sequential, Model \n",
        "from keras.layers import Dropout, Flatten, Dense, GlobalAveragePooling2D\n",
        "from keras.callbacks import ModelCheckpoint\n",
        "from tensorflow.keras.utils import img_to_array, array_to_img, load_img\n",
        "from keras.utils import np_utils\n",
        "from keras.optimizers import SGD\n",
        "\n",
        "from IPython.core.display import display, HTML\n",
        "from PIL import Image\n",
        "from io import BytesIO\n",
        "import base64\n",
        "\n",
        "plt.style.use('ggplot')\n",
        "\n",
        "%matplotlib inline"
      ]
    },
    {
      "cell_type": "code",
      "execution_count": null,
      "metadata": {
        "_uuid": "86450cb83d348d839f1bfa14f2655166fe626407",
        "id": "QZxO_LX095KO",
        "outputId": "19f4fbf7-f1b1-473d-a87b-52383d90247d"
      },
      "outputs": [
        {
          "name": "stdout",
          "output_type": "stream",
          "text": [
            "2.11.0\n"
          ]
        }
      ],
      "source": [
        "import tensorflow as tf\n",
        "print(tf.__version__)"
      ]
    },
    {
      "cell_type": "markdown",
      "metadata": {
        "_uuid": "352244740550c3cfb275c496add9c71bc9865b41",
        "id": "44h7JFTW95KQ"
      },
      "source": [
        "## Step 1: Data Exploration\n",
        "\n",
        "We will be using the CelebA Dataset, which includes images of 178 x 218 px. Below is an example of how the pictures looks like."
      ]
    },
    {
      "cell_type": "code",
      "execution_count": null,
      "metadata": {
        "_uuid": "c269fd3d69a5b8ffaad47d56a85c785d6d7be5c1",
        "id": "LFfbhpZ095KR"
      },
      "outputs": [],
      "source": [
        "# set variables \n",
        "main_folder = 'D:/Task/Archive/Images_Datasets/'\n",
        "images_folder = main_folder + 'D:/Task/Archive/Celeb_images/img_align_celeba/'\n",
        "\n",
        "EXAMPLE_PIC = images_folder + '000506.jpg'\n",
        "\n",
        "TRAINING_SAMPLES = 10000\n",
        "VALIDATION_SAMPLES = 2000\n",
        "TEST_SAMPLES = 2000\n",
        "IMG_WIDTH = 178\n",
        "IMG_HEIGHT = 218\n",
        "BATCH_SIZE = 16\n",
        "NUM_EPOCHS = 20"
      ]
    },
    {
      "cell_type": "markdown",
      "metadata": {
        "_uuid": "d4effe59d9137ff22c55ae1f331772e4e728fb5e",
        "id": "NlEL02Sk95KS"
      },
      "source": [
        "### Load the attributes of every picture\n",
        "File: list_attr_celeba.csv"
      ]
    },
    {
      "cell_type": "code",
      "execution_count": null,
      "metadata": {
        "_uuid": "1a6e65c380d3050be07f88488f495e34c76fc860",
        "id": "O6y34K0n95KU",
        "outputId": "65a6274b-4a5c-4b79-a6e5-337187924e92"
      },
      "outputs": [
        {
          "data": {
            "text/plain": [
              "(202599, 40)"
            ]
          },
          "execution_count": 8,
          "metadata": {},
          "output_type": "execute_result"
        }
      ],
      "source": [
        "# import the data set that include the attribute for each picture\n",
        "df_attr = pd.read_csv(main_folder + 'list_attr_celeba.csv')\n",
        "df_attr.set_index('image_id', inplace=True)\n",
        "df_attr.replace(to_replace=-1, value=0, inplace=True) #replace -1 by 0\n",
        "df_attr.shape"
      ]
    },
    {
      "cell_type": "markdown",
      "metadata": {
        "_uuid": "3b67c72c9f346f0cdb1901e0b8b79ef37a5468bc",
        "id": "gQPmVpsP95KV"
      },
      "source": [
        "### List of the available attribute in the CelebA dataset\n",
        "\n",
        "40 Attributes"
      ]
    },
    {
      "cell_type": "code",
      "execution_count": null,
      "metadata": {
        "_uuid": "2b79520895583694e69eef65aeadad065ffe4839",
        "id": "a37vUxQZ95KW",
        "outputId": "fc89e856-b28d-4be1-90b4-744b411191c0"
      },
      "outputs": [
        {
          "name": "stdout",
          "output_type": "stream",
          "text": [
            "0 5_o_Clock_Shadow\n",
            "1 Arched_Eyebrows\n",
            "2 Attractive\n",
            "3 Bags_Under_Eyes\n",
            "4 Bald\n",
            "5 Bangs\n",
            "6 Big_Lips\n",
            "7 Big_Nose\n",
            "8 Black_Hair\n",
            "9 Blond_Hair\n",
            "10 Blurry\n",
            "11 Brown_Hair\n",
            "12 Bushy_Eyebrows\n",
            "13 Chubby\n",
            "14 Double_Chin\n",
            "15 Eyeglasses\n",
            "16 Goatee\n",
            "17 Gray_Hair\n",
            "18 Heavy_Makeup\n",
            "19 High_Cheekbones\n",
            "20 Male\n",
            "21 Mouth_Slightly_Open\n",
            "22 Mustache\n",
            "23 Narrow_Eyes\n",
            "24 No_Beard\n",
            "25 Oval_Face\n",
            "26 Pale_Skin\n",
            "27 Pointy_Nose\n",
            "28 Receding_Hairline\n",
            "29 Rosy_Cheeks\n",
            "30 Sideburns\n",
            "31 Smiling\n",
            "32 Straight_Hair\n",
            "33 Wavy_Hair\n",
            "34 Wearing_Earrings\n",
            "35 Wearing_Hat\n",
            "36 Wearing_Lipstick\n",
            "37 Wearing_Necklace\n",
            "38 Wearing_Necktie\n",
            "39 Young\n"
          ]
        }
      ],
      "source": [
        "# List of available attributes\n",
        "for i, j in enumerate(df_attr.columns):\n",
        "    print(i, j)"
      ]
    },
    {
      "cell_type": "markdown",
      "metadata": {
        "_uuid": "809cda0aead0c34725c4516a5e39aa1a9ad40c6c",
        "id": "cLyly1xF95KX"
      },
      "source": [
        "### Example of a picture in CelebA dataset\n",
        "178 x 218 px"
      ]
    },
    {
      "cell_type": "code",
      "execution_count": null,
      "metadata": {
        "_uuid": "c0acd2a32edb087315588d3fb9a7cf13477cdbcc",
        "id": "rffK3RCf95KY",
        "outputId": "a5f06388-2462-4381-c597-439971e9173e"
      },
      "outputs": [
        {
          "ename": "OSError",
          "evalue": "[Errno 22] Invalid argument: 'D:/C#/Task/Archive/Images_Datasets/D:/C#/Task/Archive/Celeb_images/img_align_celeba/000506.jpg'",
          "output_type": "error",
          "traceback": [
            "\u001b[1;31m---------------------------------------------------------------------------\u001b[0m",
            "\u001b[1;31mOSError\u001b[0m                                   Traceback (most recent call last)",
            "\u001b[1;32m~\\AppData\\Local\\Temp\\ipykernel_3964\\1531680365.py\u001b[0m in \u001b[0;36m<module>\u001b[1;34m\u001b[0m\n\u001b[0;32m      1\u001b[0m \u001b[1;31m# plot picture and attributes\u001b[0m\u001b[1;33m\u001b[0m\u001b[1;33m\u001b[0m\u001b[0m\n\u001b[1;32m----> 2\u001b[1;33m \u001b[0mimg\u001b[0m \u001b[1;33m=\u001b[0m \u001b[0mload_img\u001b[0m\u001b[1;33m(\u001b[0m\u001b[0mEXAMPLE_PIC\u001b[0m\u001b[1;33m)\u001b[0m\u001b[1;33m\u001b[0m\u001b[1;33m\u001b[0m\u001b[0m\n\u001b[0m\u001b[0;32m      3\u001b[0m \u001b[0mplt\u001b[0m\u001b[1;33m.\u001b[0m\u001b[0mgrid\u001b[0m\u001b[1;33m(\u001b[0m\u001b[1;32mFalse\u001b[0m\u001b[1;33m)\u001b[0m\u001b[1;33m\u001b[0m\u001b[1;33m\u001b[0m\u001b[0m\n\u001b[0;32m      4\u001b[0m \u001b[0mplt\u001b[0m\u001b[1;33m.\u001b[0m\u001b[0mimshow\u001b[0m\u001b[1;33m(\u001b[0m\u001b[0mimg\u001b[0m\u001b[1;33m)\u001b[0m\u001b[1;33m\u001b[0m\u001b[1;33m\u001b[0m\u001b[0m\n\u001b[0;32m      5\u001b[0m \u001b[0mdf_attr\u001b[0m\u001b[1;33m.\u001b[0m\u001b[0mloc\u001b[0m\u001b[1;33m[\u001b[0m\u001b[0mEXAMPLE_PIC\u001b[0m\u001b[1;33m.\u001b[0m\u001b[0msplit\u001b[0m\u001b[1;33m(\u001b[0m\u001b[1;34m'/'\u001b[0m\u001b[1;33m)\u001b[0m\u001b[1;33m[\u001b[0m\u001b[1;33m-\u001b[0m\u001b[1;36m1\u001b[0m\u001b[1;33m]\u001b[0m\u001b[1;33m]\u001b[0m\u001b[1;33m[\u001b[0m\u001b[1;33m[\u001b[0m\u001b[1;34m'Smiling'\u001b[0m\u001b[1;33m,\u001b[0m\u001b[1;34m'Male'\u001b[0m\u001b[1;33m,\u001b[0m\u001b[1;34m'Young'\u001b[0m\u001b[1;33m]\u001b[0m\u001b[1;33m]\u001b[0m \u001b[1;31m#some attributes\u001b[0m\u001b[1;33m\u001b[0m\u001b[1;33m\u001b[0m\u001b[0m\n",
            "\u001b[1;32m~\\anaconda3\\lib\\site-packages\\keras\\utils\\image_utils.py\u001b[0m in \u001b[0;36mload_img\u001b[1;34m(path, grayscale, color_mode, target_size, interpolation, keep_aspect_ratio)\u001b[0m\n\u001b[0;32m    420\u001b[0m         \u001b[1;32mif\u001b[0m \u001b[0misinstance\u001b[0m\u001b[1;33m(\u001b[0m\u001b[0mpath\u001b[0m\u001b[1;33m,\u001b[0m \u001b[0mpathlib\u001b[0m\u001b[1;33m.\u001b[0m\u001b[0mPath\u001b[0m\u001b[1;33m)\u001b[0m\u001b[1;33m:\u001b[0m\u001b[1;33m\u001b[0m\u001b[1;33m\u001b[0m\u001b[0m\n\u001b[0;32m    421\u001b[0m             \u001b[0mpath\u001b[0m \u001b[1;33m=\u001b[0m \u001b[0mstr\u001b[0m\u001b[1;33m(\u001b[0m\u001b[0mpath\u001b[0m\u001b[1;33m.\u001b[0m\u001b[0mresolve\u001b[0m\u001b[1;33m(\u001b[0m\u001b[1;33m)\u001b[0m\u001b[1;33m)\u001b[0m\u001b[1;33m\u001b[0m\u001b[1;33m\u001b[0m\u001b[0m\n\u001b[1;32m--> 422\u001b[1;33m         \u001b[1;32mwith\u001b[0m \u001b[0mopen\u001b[0m\u001b[1;33m(\u001b[0m\u001b[0mpath\u001b[0m\u001b[1;33m,\u001b[0m \u001b[1;34m\"rb\"\u001b[0m\u001b[1;33m)\u001b[0m \u001b[1;32mas\u001b[0m \u001b[0mf\u001b[0m\u001b[1;33m:\u001b[0m\u001b[1;33m\u001b[0m\u001b[1;33m\u001b[0m\u001b[0m\n\u001b[0m\u001b[0;32m    423\u001b[0m             \u001b[0mimg\u001b[0m \u001b[1;33m=\u001b[0m \u001b[0mpil_image\u001b[0m\u001b[1;33m.\u001b[0m\u001b[0mopen\u001b[0m\u001b[1;33m(\u001b[0m\u001b[0mio\u001b[0m\u001b[1;33m.\u001b[0m\u001b[0mBytesIO\u001b[0m\u001b[1;33m(\u001b[0m\u001b[0mf\u001b[0m\u001b[1;33m.\u001b[0m\u001b[0mread\u001b[0m\u001b[1;33m(\u001b[0m\u001b[1;33m)\u001b[0m\u001b[1;33m)\u001b[0m\u001b[1;33m)\u001b[0m\u001b[1;33m\u001b[0m\u001b[1;33m\u001b[0m\u001b[0m\n\u001b[0;32m    424\u001b[0m     \u001b[1;32melse\u001b[0m\u001b[1;33m:\u001b[0m\u001b[1;33m\u001b[0m\u001b[1;33m\u001b[0m\u001b[0m\n",
            "\u001b[1;31mOSError\u001b[0m: [Errno 22] Invalid argument: 'D:/C#/Task/Archive/Images_Datasets/D:/C#/Task/Archive/Celeb_images/img_align_celeba/000506.jpg'"
          ]
        }
      ],
      "source": [
        "# plot picture and attributes\n",
        "img = load_img(EXAMPLE_PIC)\n",
        "plt.grid(False)\n",
        "plt.imshow(img)\n",
        "df_attr.loc[EXAMPLE_PIC.split('/')[-1]][['Smiling','Male','Young']] #some attributes"
      ]
    },
    {
      "cell_type": "markdown",
      "metadata": {
        "_uuid": "31337d0dbbed4ba6009884b8688860bab8b42c18",
        "id": "LIFsRUQ-95KZ"
      },
      "source": [
        "### Distribution of the Attribute\n",
        "\n",
        "As specified before, this Notebook is an imagine recognition project of the Gender. There are more Female gender than Male gender in the data set. This give us some insight about the need to balance the data in next steps."
      ]
    },
    {
      "cell_type": "code",
      "execution_count": null,
      "metadata": {
        "_uuid": "2153575008289555fe054216eeb0c946f5d34555",
        "id": "I0YM0mhB95Ka",
        "outputId": "9bbc8e1d-abbe-494d-e3e0-d57ab5e2a9f7"
      },
      "outputs": [
        {
          "data": {
            "image/png": "[encoded data removed]",
            "text/plain": [
              "<Figure size 640x480 with 1 Axes>"
            ]
          },
          "metadata": {},
          "output_type": "display_data"
        }
      ],
      "source": [
        "# Female or Male?\n",
        "plt.title('Female or Male')\n",
        "sns.countplot(y='Male', data=df_attr, color=\"c\")\n",
        "plt.show()"
      ]
    },
    {
      "cell_type": "markdown",
      "metadata": {
        "_uuid": "ba04abfd3a6f51409bdfec909afcfd44c67421aa",
        "collapsed": true,
        "id": "p6T1sxvA95Kb"
      },
      "source": [
        "## Step 2: Split Dataset into Training, Validation and Test\n",
        "\n",
        "The recommended partitioning of images into training, validation, testing of the data set is: \n",
        "* 1-162770 are training\n",
        "* 162771-182637 are validation\n",
        "* 182638-202599 are testing\n",
        "\n",
        "The partition is in file <b>list_eval_partition.csv</b>\n",
        "\n",
        "Due time execution, by now we will be using a reduced number of images:\n",
        "\n",
        "* Training 20000 images\n",
        "* Validation 5000 images\n",
        "* Test 5000 Images\n"
      ]
    },
    {
      "cell_type": "code",
      "execution_count": null,
      "metadata": {
        "_uuid": "60fd112d3dfb79ae7ecf6963d74919f6d44d7c76",
        "id": "En8UCSeT95Kb",
        "outputId": "a4207595-53a0-42fd-8eb4-e27ef11461f4"
      },
      "outputs": [
        {
          "data": {
            "text/html": [
              "<div>\n",
              "<style scoped>\n",
              "    .dataframe tbody tr th:only-of-type {\n",
              "        vertical-align: middle;\n",
              "    }\n",
              "\n",
              "    .dataframe tbody tr th {\n",
              "        vertical-align: top;\n",
              "    }\n",
              "\n",
              "    .dataframe thead th {\n",
              "        text-align: right;\n",
              "    }\n",
              "</style>\n",
              "<table border=\"1\" class=\"dataframe\">\n",
              "  <thead>\n",
              "    <tr style=\"text-align: right;\">\n",
              "      <th></th>\n",
              "      <th>image_id</th>\n",
              "      <th>partition</th>\n",
              "    </tr>\n",
              "  </thead>\n",
              "  <tbody>\n",
              "    <tr>\n",
              "      <th>0</th>\n",
              "      <td>000001.jpg</td>\n",
              "      <td>0</td>\n",
              "    </tr>\n",
              "    <tr>\n",
              "      <th>1</th>\n",
              "      <td>000002.jpg</td>\n",
              "      <td>0</td>\n",
              "    </tr>\n",
              "    <tr>\n",
              "      <th>2</th>\n",
              "      <td>000003.jpg</td>\n",
              "      <td>0</td>\n",
              "    </tr>\n",
              "    <tr>\n",
              "      <th>3</th>\n",
              "      <td>000004.jpg</td>\n",
              "      <td>0</td>\n",
              "    </tr>\n",
              "    <tr>\n",
              "      <th>4</th>\n",
              "      <td>000005.jpg</td>\n",
              "      <td>0</td>\n",
              "    </tr>\n",
              "  </tbody>\n",
              "</table>\n",
              "</div>"
            ],
            "text/plain": [
              "     image_id  partition\n",
              "0  000001.jpg          0\n",
              "1  000002.jpg          0\n",
              "2  000003.jpg          0\n",
              "3  000004.jpg          0\n",
              "4  000005.jpg          0"
            ]
          },
          "execution_count": 13,
          "metadata": {},
          "output_type": "execute_result"
        }
      ],
      "source": [
        "# Recomended partition\n",
        "df_partition = pd.read_csv(main_folder + 'list_eval_partition.csv')\n",
        "df_partition.head()"
      ]
    },
    {
      "cell_type": "code",
      "execution_count": null,
      "metadata": {
        "_uuid": "e1328dcf8b461e037de24c18cd528791766c8f57",
        "id": "fpX-J2ND95Kc",
        "outputId": "405fe55c-42fe-4807-f705-d3b403b8f098"
      },
      "outputs": [
        {
          "data": {
            "text/plain": [
              "0    162770\n",
              "1     19867\n",
              "2     19962\n",
              "Name: partition, dtype: int64"
            ]
          },
          "execution_count": 14,
          "metadata": {},
          "output_type": "execute_result"
        }
      ],
      "source": [
        "# display counter by partition\n",
        "# 0 -> TRAINING\n",
        "# 1 -> VALIDATION\n",
        "# 2 -> TEST\n",
        "df_partition['partition'].value_counts().sort_index()"
      ]
    },
    {
      "cell_type": "markdown",
      "metadata": {
        "_uuid": "bbb655b199e34c8dbee371b67eda6c75e26ad1e1",
        "id": "cssadseV95Kd"
      },
      "source": [
        "#### Join the partition and the attributes in the same data frame"
      ]
    },
    {
      "cell_type": "code",
      "execution_count": null,
      "metadata": {
        "_uuid": "2e03c64bb8d57dcf39de372fabcf78e5c6c39985",
        "id": "1LxJEaQ495Kd",
        "outputId": "cd313aa4-d2d6-4998-bb1d-529e08535cb7"
      },
      "outputs": [
        {
          "data": {
            "text/html": [
              "<div>\n",
              "<style scoped>\n",
              "    .dataframe tbody tr th:only-of-type {\n",
              "        vertical-align: middle;\n",
              "    }\n",
              "\n",
              "    .dataframe tbody tr th {\n",
              "        vertical-align: top;\n",
              "    }\n",
              "\n",
              "    .dataframe thead th {\n",
              "        text-align: right;\n",
              "    }\n",
              "</style>\n",
              "<table border=\"1\" class=\"dataframe\">\n",
              "  <thead>\n",
              "    <tr style=\"text-align: right;\">\n",
              "      <th></th>\n",
              "      <th>partition</th>\n",
              "      <th>Male</th>\n",
              "    </tr>\n",
              "    <tr>\n",
              "      <th>image_id</th>\n",
              "      <th></th>\n",
              "      <th></th>\n",
              "    </tr>\n",
              "  </thead>\n",
              "  <tbody>\n",
              "    <tr>\n",
              "      <th>000001.jpg</th>\n",
              "      <td>0</td>\n",
              "      <td>0</td>\n",
              "    </tr>\n",
              "    <tr>\n",
              "      <th>000002.jpg</th>\n",
              "      <td>0</td>\n",
              "      <td>0</td>\n",
              "    </tr>\n",
              "    <tr>\n",
              "      <th>000003.jpg</th>\n",
              "      <td>0</td>\n",
              "      <td>1</td>\n",
              "    </tr>\n",
              "    <tr>\n",
              "      <th>000004.jpg</th>\n",
              "      <td>0</td>\n",
              "      <td>0</td>\n",
              "    </tr>\n",
              "    <tr>\n",
              "      <th>000005.jpg</th>\n",
              "      <td>0</td>\n",
              "      <td>0</td>\n",
              "    </tr>\n",
              "  </tbody>\n",
              "</table>\n",
              "</div>"
            ],
            "text/plain": [
              "            partition  Male\n",
              "image_id                   \n",
              "000001.jpg          0     0\n",
              "000002.jpg          0     0\n",
              "000003.jpg          0     1\n",
              "000004.jpg          0     0\n",
              "000005.jpg          0     0"
            ]
          },
          "execution_count": 15,
          "metadata": {},
          "output_type": "execute_result"
        }
      ],
      "source": [
        "# join the partition with the attributes\n",
        "df_partition.set_index('image_id', inplace=True)\n",
        "df_par_attr = df_partition.join(df_attr['Male'], how='inner')\n",
        "df_par_attr.head()"
      ]
    },
    {
      "cell_type": "markdown",
      "metadata": {
        "_uuid": "6becbeba1d5fefc4416e041cef5f5d701dacc4aa",
        "id": "uT0g87_095Ke"
      },
      "source": [
        "### 2.1: Generate Partitions (Train, Validation, Test)\n",
        "\n",
        "Number of images need to be balanced in order to get a good performance for the model, each model will have its own folder of training, validation and test balanced data.\n",
        "\n",
        "This degree project explains how imbalanced training data impact on CNNs models:\n",
        "\n",
        "https://www.kth.se/social/files/588617ebf2765401cfcc478c/PHensmanDMasko_dkand15.pdf\n",
        "\n",
        "On this step we will create functions that will help us to create each partition."
      ]
    },
    {
      "cell_type": "code",
      "execution_count": null,
      "metadata": {
        "_uuid": "56b4af1f2f980957659c0272b92c1f77c13162c4",
        "id": "AOhSlhRO95Kf"
      },
      "outputs": [],
      "source": [
        "def load_reshape_img(fname):\n",
        "    img = load_img(fname)\n",
        "    x = img_to_array(img)/255.\n",
        "    x = x.reshape((1,) + x.shape)\n",
        "\n",
        "    return x\n",
        "\n",
        "\n",
        "def generate_df(partition, attr, num_samples):\n",
        "    '''\n",
        "    partition\n",
        "        0 -> train\n",
        "        1 -> validation\n",
        "        2 -> test\n",
        "    \n",
        "    '''\n",
        "    \n",
        "    df_ = df_par_attr[(df_par_attr['partition'] == partition) \n",
        "                           & (df_par_attr[attr] == 0)].sample(int(num_samples/2))\n",
        "    df_ = pd.concat([df_,\n",
        "                      df_par_attr[(df_par_attr['partition'] == partition) \n",
        "                                  & (df_par_attr[attr] == 1)].sample(int(num_samples/2))])\n",
        "\n",
        "    # for Train and Validation\n",
        "    if partition != 2:\n",
        "        x_ = np.array([load_reshape_img(images_folder + fname) for fname in df_.index])\n",
        "        x_ = x_.reshape(x_.shape[0], 218, 178, 3)\n",
        "        y_ = np_utils.to_categorical(df_[attr],2)\n",
        "    # for Test\n",
        "    else:\n",
        "        x_ = []\n",
        "        y_ = []\n",
        "\n",
        "        for index, target in df_.iterrows():\n",
        "            im = cv2.imread(images_folder + index)\n",
        "            im = cv2.resize(cv2.cvtColor(im, cv2.COLOR_BGR2RGB), (IMG_WIDTH, IMG_HEIGHT)).astype(np.float32) / 255.0\n",
        "            im = np.expand_dims(im, axis =0)\n",
        "            x_.append(im)\n",
        "            y_.append(target[attr])\n",
        "\n",
        "    return x_, y_"
      ]
    },
    {
      "cell_type": "markdown",
      "metadata": {
        "_uuid": "659ad807ced4e62a900c31fb5d53ae81be550880",
        "id": "L6xFjVKH95Kf"
      },
      "source": [
        "## Step 3: Pre-processing Images: Data Augmentation\n",
        "\n",
        "Generates Data Augmentation for iamges.\n",
        "\n",
        "Data Augmentation allows to generate images with modifications to the original ones. The model will learn from these variations (changing angle, size and position), being able to predict better never seen images that could have the same variations in position, size and position."
      ]
    },
    {
      "cell_type": "markdown",
      "metadata": {
        "_uuid": "19a23bdb3f3f9542aa4743d5ae249ef3b4b57d3b",
        "id": "HufiorkY95Kg"
      },
      "source": [
        "### 3.1. Let's start with an example: Data Augmentation\n",
        "\n",
        "This is how an image will look like after data augmentation (based in the giving parameters below)."
      ]
    },
    {
      "cell_type": "code",
      "execution_count": null,
      "metadata": {
        "_uuid": "6a26680b19401c291da42a6d59f894cef40c92f7",
        "id": "JOeQC8YY95Kh",
        "outputId": "be687204-25b7-4426-f705-a78793e296e7"
      },
      "outputs": [
        {
          "ename": "OSError",
          "evalue": "[Errno 22] Invalid argument: 'D:/C#/Task/Archive/Images_Datasets/D:/C#/Task/Archive/Celeb_images/img_align_celeba/000506.jpg'",
          "output_type": "error",
          "traceback": [
            "\u001b[1;31m---------------------------------------------------------------------------\u001b[0m",
            "\u001b[1;31mOSError\u001b[0m                                   Traceback (most recent call last)",
            "\u001b[1;32m~\\AppData\\Local\\Temp\\ipykernel_3964\\3541560318.py\u001b[0m in \u001b[0;36m<module>\u001b[1;34m\u001b[0m\n\u001b[0;32m     11\u001b[0m \u001b[1;33m\u001b[0m\u001b[0m\n\u001b[0;32m     12\u001b[0m \u001b[1;31m# load one image and reshape\u001b[0m\u001b[1;33m\u001b[0m\u001b[1;33m\u001b[0m\u001b[0m\n\u001b[1;32m---> 13\u001b[1;33m \u001b[0mimg\u001b[0m \u001b[1;33m=\u001b[0m \u001b[0mload_img\u001b[0m\u001b[1;33m(\u001b[0m\u001b[0mEXAMPLE_PIC\u001b[0m\u001b[1;33m)\u001b[0m\u001b[1;33m\u001b[0m\u001b[1;33m\u001b[0m\u001b[0m\n\u001b[0m\u001b[0;32m     14\u001b[0m \u001b[0mx\u001b[0m \u001b[1;33m=\u001b[0m \u001b[0mimg_to_array\u001b[0m\u001b[1;33m(\u001b[0m\u001b[0mimg\u001b[0m\u001b[1;33m)\u001b[0m\u001b[1;33m/\u001b[0m\u001b[1;36m255.\u001b[0m\u001b[1;33m\u001b[0m\u001b[1;33m\u001b[0m\u001b[0m\n\u001b[0;32m     15\u001b[0m \u001b[0mx\u001b[0m \u001b[1;33m=\u001b[0m \u001b[0mx\u001b[0m\u001b[1;33m.\u001b[0m\u001b[0mreshape\u001b[0m\u001b[1;33m(\u001b[0m\u001b[1;33m(\u001b[0m\u001b[1;36m1\u001b[0m\u001b[1;33m,\u001b[0m\u001b[1;33m)\u001b[0m \u001b[1;33m+\u001b[0m \u001b[0mx\u001b[0m\u001b[1;33m.\u001b[0m\u001b[0mshape\u001b[0m\u001b[1;33m)\u001b[0m\u001b[1;33m\u001b[0m\u001b[1;33m\u001b[0m\u001b[0m\n",
            "\u001b[1;32m~\\anaconda3\\lib\\site-packages\\keras\\utils\\image_utils.py\u001b[0m in \u001b[0;36mload_img\u001b[1;34m(path, grayscale, color_mode, target_size, interpolation, keep_aspect_ratio)\u001b[0m\n\u001b[0;32m    420\u001b[0m         \u001b[1;32mif\u001b[0m \u001b[0misinstance\u001b[0m\u001b[1;33m(\u001b[0m\u001b[0mpath\u001b[0m\u001b[1;33m,\u001b[0m \u001b[0mpathlib\u001b[0m\u001b[1;33m.\u001b[0m\u001b[0mPath\u001b[0m\u001b[1;33m)\u001b[0m\u001b[1;33m:\u001b[0m\u001b[1;33m\u001b[0m\u001b[1;33m\u001b[0m\u001b[0m\n\u001b[0;32m    421\u001b[0m             \u001b[0mpath\u001b[0m \u001b[1;33m=\u001b[0m \u001b[0mstr\u001b[0m\u001b[1;33m(\u001b[0m\u001b[0mpath\u001b[0m\u001b[1;33m.\u001b[0m\u001b[0mresolve\u001b[0m\u001b[1;33m(\u001b[0m\u001b[1;33m)\u001b[0m\u001b[1;33m)\u001b[0m\u001b[1;33m\u001b[0m\u001b[1;33m\u001b[0m\u001b[0m\n\u001b[1;32m--> 422\u001b[1;33m         \u001b[1;32mwith\u001b[0m \u001b[0mopen\u001b[0m\u001b[1;33m(\u001b[0m\u001b[0mpath\u001b[0m\u001b[1;33m,\u001b[0m \u001b[1;34m\"rb\"\u001b[0m\u001b[1;33m)\u001b[0m \u001b[1;32mas\u001b[0m \u001b[0mf\u001b[0m\u001b[1;33m:\u001b[0m\u001b[1;33m\u001b[0m\u001b[1;33m\u001b[0m\u001b[0m\n\u001b[0m\u001b[0;32m    423\u001b[0m             \u001b[0mimg\u001b[0m \u001b[1;33m=\u001b[0m \u001b[0mpil_image\u001b[0m\u001b[1;33m.\u001b[0m\u001b[0mopen\u001b[0m\u001b[1;33m(\u001b[0m\u001b[0mio\u001b[0m\u001b[1;33m.\u001b[0m\u001b[0mBytesIO\u001b[0m\u001b[1;33m(\u001b[0m\u001b[0mf\u001b[0m\u001b[1;33m.\u001b[0m\u001b[0mread\u001b[0m\u001b[1;33m(\u001b[0m\u001b[1;33m)\u001b[0m\u001b[1;33m)\u001b[0m\u001b[1;33m)\u001b[0m\u001b[1;33m\u001b[0m\u001b[1;33m\u001b[0m\u001b[0m\n\u001b[0;32m    424\u001b[0m     \u001b[1;32melse\u001b[0m\u001b[1;33m:\u001b[0m\u001b[1;33m\u001b[0m\u001b[1;33m\u001b[0m\u001b[0m\n",
            "\u001b[1;31mOSError\u001b[0m: [Errno 22] Invalid argument: 'D:/C#/Task/Archive/Images_Datasets/D:/C#/Task/Archive/Celeb_images/img_align_celeba/000506.jpg'"
          ]
        }
      ],
      "source": [
        "# Generate image generator for data augmentation\n",
        "datagen =  ImageDataGenerator(\n",
        "  #preprocessing_function=preprocess_input,\n",
        "  rotation_range=30,\n",
        "  width_shift_range=0.2,\n",
        "  height_shift_range=0.2,\n",
        "  shear_range=0.2,\n",
        "  zoom_range=0.2,\n",
        "  horizontal_flip=True\n",
        ")\n",
        "\n",
        "# load one image and reshape\n",
        "img = load_img(EXAMPLE_PIC)\n",
        "x = img_to_array(img)/255.\n",
        "x = x.reshape((1,) + x.shape)\n",
        "\n",
        "# plot 10 augmented images of the loaded iamge\n",
        "plt.figure(figsize=(20,10))\n",
        "plt.suptitle('Data Augmentation', fontsize=28)\n",
        "\n",
        "i = 0\n",
        "for batch in datagen.flow(x, batch_size=1):\n",
        "    plt.subplot(3, 5, i+1)\n",
        "    plt.grid(False)\n",
        "    plt.imshow( batch.reshape(218, 178, 3))\n",
        "    \n",
        "    if i == 9:\n",
        "        break\n",
        "    i += 1\n",
        "    \n",
        "plt.show()"
      ]
    },
    {
      "cell_type": "markdown",
      "metadata": {
        "_uuid": "6072f6676eb6fee3084da3df56d8e4a3f55a9868",
        "id": "_6SuQJuA95Ki"
      },
      "source": [
        "The result is a new set of images with modifications from the original one, that allows to the model to learn from these variations in order to take this kind of images during the learning process and predict better never seen images."
      ]
    },
    {
      "cell_type": "markdown",
      "metadata": {
        "_uuid": "768e425237481c6bb6b980272fe63137bbbc20df",
        "id": "I0GdgC4u95Ki"
      },
      "source": [
        "### 3.2. Build Data Generators"
      ]
    },
    {
      "cell_type": "code",
      "execution_count": null,
      "metadata": {
        "_uuid": "35bbdcb65be9f69fc0ed02e28c946d4419a4335b",
        "id": "Hpl_kANM95Kj"
      },
      "outputs": [],
      "source": [
        "# Train data\n",
        "x_train, y_train = generate_df(0, 'Male', TRAINING_SAMPLES)\n",
        "\n",
        "# Train - Data Preparation - Data Augmentation with generators\n",
        "train_datagen =  ImageDataGenerator(\n",
        "  preprocessing_function=preprocess_input,\n",
        "  rotation_range=30,\n",
        "  width_shift_range=0.2,\n",
        "  height_shift_range=0.2,\n",
        "  shear_range=0.2,\n",
        "  zoom_range=0.2,\n",
        "  horizontal_flip=True,\n",
        ")\n",
        "\n",
        "train_datagen.fit(x_train)\n",
        "\n",
        "train_generator = train_datagen.flow(\n",
        "x_train, y_train,\n",
        "batch_size=BATCH_SIZE,\n",
        ")"
      ]
    },
    {
      "cell_type": "code",
      "execution_count": null,
      "metadata": {
        "_uuid": "2dbaf8b9a50fc5e524436fb3c2202f6e0053c86a",
        "id": "X5-K2SXs95Kk"
      },
      "outputs": [],
      "source": [
        "# Validation Data\n",
        "x_valid, y_valid = generate_df(1, 'Male', VALIDATION_SAMPLES)\n",
        "\n",
        "'''\n",
        "# Validation - Data Preparation - Data Augmentation with generators\n",
        "valid_datagen = ImageDataGenerator(\n",
        "  preprocessing_function=preprocess_input,\n",
        ")\n",
        "\n",
        "valid_datagen.fit(x_valid)\n",
        "\n",
        "validation_generator = valid_datagen.flow(\n",
        "x_valid, y_valid,\n",
        ")\n",
        "'''"
      ]
    },
    {
      "cell_type": "markdown",
      "metadata": {
        "_uuid": "5496743ce168a108a84e7f21b60f3f58309bbaa0",
        "id": "_mviC2JP95Kk"
      },
      "source": [
        "With the data generator created and data for validation, we are ready to start modeling."
      ]
    },
    {
      "cell_type": "markdown",
      "metadata": {
        "_uuid": "c729337fbac35a302c96a49faaf122dac082c8c2",
        "id": "FrNzsydc95Kl"
      },
      "source": [
        "## Step 4: Build the Model - Gender Recognition"
      ]
    },
    {
      "cell_type": "markdown",
      "metadata": {
        "_uuid": "8cd7789c59348ff27b6556bda4338d51715e4c87",
        "id": "6YxckCjo95Kl"
      },
      "source": [
        "### 4.1. Set the Model"
      ]
    },
    {
      "cell_type": "code",
      "execution_count": null,
      "metadata": {
        "_uuid": "7e0dbc3b3d11876f7a3dc36e1f67ac093978f526",
        "id": "iyXpnjSQ95Km"
      },
      "outputs": [],
      "source": [
        "# Import InceptionV3 Model\n",
        "inc_model = InceptionV3(weights='../input/inceptionv3/inception_v3_weights_tf_dim_ordering_tf_kernels_notop.h5',\n",
        "                        include_top=False,\n",
        "                        input_shape=(IMG_HEIGHT, IMG_WIDTH, 3))\n",
        "\n",
        "print(\"number of layers:\", len(inc_model.layers))\n",
        "#inc_model.summary()"
      ]
    },
    {
      "cell_type": "markdown",
      "metadata": {
        "_uuid": "ad941871e156206d4dee61879e357e808748fece",
        "id": "K6jGu8Tn95Km"
      },
      "source": [
        "<h2>Inception-V3 model structure</h2>\n",
        "This is the structure of the Inception-V3 model, developed over the imagenet dataset.\n",
        "\n",
        "\n",
        "<img src=\"https://i.imgur.com/kdXUzu1.png\" width=\"1000px\"/>\n",
        "source: https://hackathonprojects.files.wordpress.com/2016/09/74911-image03.png\n",
        "\n",
        "The top layers (including classification) are not included. These layers will be replaced for the following layers:"
      ]
    },
    {
      "cell_type": "code",
      "execution_count": null,
      "metadata": {
        "_uuid": "232d3dc90e0e8859c596e6113b5dca8571c84d78",
        "id": "qWLAwObf95Kn"
      },
      "outputs": [],
      "source": [
        "#Adding custom Layers\n",
        "x = inc_model.output\n",
        "x = GlobalAveragePooling2D()(x)\n",
        "x = Dense(1024, activation=\"relu\")(x)\n",
        "x = Dropout(0.5)(x)\n",
        "x = Dense(512, activation=\"relu\")(x)\n",
        "predictions = Dense(2, activation=\"softmax\")(x)"
      ]
    },
    {
      "cell_type": "markdown",
      "metadata": {
        "_uuid": "5644135b7f94522ff2699373d7efe539b36e07f9",
        "id": "9yf3XY7G95Kn"
      },
      "source": [
        "<h2>New Top layers</h2>\n",
        "Layers to be trained with the new model.\n",
        "<img src=\"https://i.imgur.com/rWF7bRY.png\" width=\"800px\"/>"
      ]
    },
    {
      "cell_type": "code",
      "execution_count": null,
      "metadata": {
        "_uuid": "3d24a13d3e0944d5dcf008fe6f9c85ec4e702a01",
        "id": "-tpuFkT895Ko"
      },
      "outputs": [],
      "source": [
        "# creating the final model \n",
        "model_ = Model(inputs=inc_model.input, outputs=predictions)\n",
        "\n",
        "# Lock initial layers to do not be trained\n",
        "for layer in model_.layers[:52]:\n",
        "    layer.trainable = False\n",
        "\n",
        "# compile the model\n",
        "model_.compile(optimizer=SGD(lr=0.0001, momentum=0.9)\n",
        "                    , loss='categorical_crossentropy'\n",
        "                    , metrics=['accuracy'])"
      ]
    },
    {
      "cell_type": "markdown",
      "metadata": {
        "_uuid": "0c84c56204fc441e54ed51b47e967a02cf4a5041",
        "id": "EkooWBJ_95Ko"
      },
      "source": [
        "### 4.2. Train Model"
      ]
    },
    {
      "cell_type": "code",
      "execution_count": null,
      "metadata": {
        "_uuid": "b16d04820bd6ff6dd7bc24fbe51a7cc12ae47eec",
        "id": "TlS2i-Pe95Kp"
      },
      "outputs": [],
      "source": [
        "#https://keras.io/models/sequential/ fit generator\n",
        "checkpointer = ModelCheckpoint(filepath='weights.best.inc.male.hdf5', \n",
        "                               verbose=1, save_best_only=True)"
      ]
    },
    {
      "cell_type": "code",
      "execution_count": null,
      "metadata": {
        "_uuid": "a8808fbd97d7158400cbe1677e78ff30bb2b12a9",
        "id": "eotBWOB895Kp",
        "scrolled": true
      },
      "outputs": [],
      "source": [
        "hist = model_.fit_generator(train_generator\n",
        "                     , validation_data = (x_valid, y_valid)\n",
        "                      , steps_per_epoch= TRAINING_SAMPLES/BATCH_SIZE\n",
        "                      , epochs= NUM_EPOCHS\n",
        "                      , callbacks=[checkpointer]\n",
        "                      , verbose=1\n",
        "                    )"
      ]
    },
    {
      "cell_type": "markdown",
      "metadata": {
        "_uuid": "72e75a244fdf073d8f1278fa525de6c8ccf9a41e",
        "id": "itThW99O95Kq"
      },
      "source": [
        "#### The best model after NUM_epech got an accuracy over the validation data of 95.75%."
      ]
    },
    {
      "cell_type": "code",
      "execution_count": null,
      "metadata": {
        "_uuid": "ed704e5742f2d73c80641e8a957ba9fd5354c4a9",
        "id": "h5lLaMIU95Kq"
      },
      "outputs": [],
      "source": [
        "# Plot loss function value through epochs\n",
        "plt.figure(figsize=(18, 4))\n",
        "plt.plot(hist.history['loss'], label = 'train')\n",
        "plt.plot(hist.history['val_loss'], label = 'valid')\n",
        "plt.legend()\n",
        "plt.title('Loss Function')\n",
        "plt.show()"
      ]
    },
    {
      "cell_type": "code",
      "execution_count": null,
      "metadata": {
        "_uuid": "052c31f101f2e8bb92a0a871bffb7ef35881266f",
        "id": "EzGur4NQ95Kq"
      },
      "outputs": [],
      "source": [
        "# Plot accuracy through epochs\n",
        "plt.figure(figsize=(18, 4))\n",
        "plt.plot(hist.history['acc'], label = 'train')\n",
        "plt.plot(hist.history['val_acc'], label = 'valid')\n",
        "plt.legend()\n",
        "plt.title('Accuracy')\n",
        "plt.show()"
      ]
    },
    {
      "cell_type": "markdown",
      "metadata": {
        "_uuid": "56f81f1620f273e93e2d194752d6b309308bf29e",
        "id": "zw9m0EnE95Kr"
      },
      "source": [
        "### 4.3. Model Evaluation"
      ]
    },
    {
      "cell_type": "code",
      "execution_count": null,
      "metadata": {
        "_uuid": "61f890047aa886fa8942867ad76d3a73104b1360",
        "id": "-O50IUXf95Kr"
      },
      "outputs": [],
      "source": [
        "#load the best model\n",
        "model_.load_weights('weights.best.inc.male.hdf5')"
      ]
    },
    {
      "cell_type": "code",
      "execution_count": null,
      "metadata": {
        "_uuid": "e77ebcbefdd61f27f0cfe02a13f30134ea3921d5",
        "id": "_h2hVqvM95Ks"
      },
      "outputs": [],
      "source": [
        "# Test Data\n",
        "x_test, y_test = generate_df(2, 'Male', TEST_SAMPLES)\n",
        "\n",
        "# generate prediction\n",
        "model_predictions = [np.argmax(model_.predict(feature)) for feature in x_test ]\n",
        "\n",
        "# report test accuracy\n",
        "test_accuracy = 100 * np.sum(np.array(model_predictions)==y_test) / len(model_predictions)\n",
        "print('Model Evaluation')\n",
        "print('Test accuracy: %.4f%%' % test_accuracy)\n",
        "print('f1_score:', f1_score(y_test, model_predictions))"
      ]
    },
    {
      "cell_type": "markdown",
      "metadata": {
        "_uuid": "9efc0a6de2ff07268a946d897b6615c26e795e97",
        "id": "_-iscP5m95Ks"
      },
      "source": [
        "### 5. Conclusion\n",
        "\n",
        "The built model using transfer learning from the InceptionV3 and adding custom layers successfully recognize the gender giving certain picture with <b>94.8% of accuracy over the test data</b>. Nevertheless, there are some limitations detected and opportunities for improvements:\n",
        "\n",
        "* Train the algorithms with the entire data set of images. Due computational resource limitation, the model was train with a subset of images. Having an appropriate machine, the model can be trained including all the images. This will make the algorithm to learn from different context of the picture giving it more experience in order to predict better never seen images.\n",
        "\n",
        "* Use difference structures for the CNNs. This approach could give better performance to the model, is an expensive task anyway, as the model can be measure on the test data set after is trained, and this takes time and computational resources.\n",
        "\n",
        "* Watching the pictures of the CelebA Data Set, most of the pictures are almost a close-up to the face of the subject, this leads to the model to learn from this type of pictures, and in situation where the subjects is just a small portion of a picture, the model could not perform well. To deal with this, more sophisticated preprocessing data can be added or complement the data set with pictures that are not entirely based in close-up to the face of the subject.\n",
        "\n",
        "* Environments where there are more than one subject in the picture was not part of the scope of this Notebook, but it is a good improvement in order to develop a better application. OpenCV is a good candidate to help with this development, as it very accurate to detect feces and its position in the pictures, then that portion of the picture (the faces) can be classified separately using the developed models on this project. \n",
        "\n"
      ]
    },
    {
      "cell_type": "markdown",
      "metadata": {
        "_uuid": "611ac23970abdadaae912cc3e9e3779265bd9fc1",
        "id": "AMQ6Ohhh95Kt"
      },
      "source": [
        "### 6. Let's play with the Model"
      ]
    },
    {
      "cell_type": "code",
      "execution_count": null,
      "metadata": {
        "_uuid": "5ad0cdabb6e82d73de3815a10cebf9f8df4b378b",
        "id": "nCbIyKsU95Kt"
      },
      "outputs": [],
      "source": [
        "#dictionary to name the prediction\n",
        "gender_target = {0: 'Female'\n",
        "                , 1: 'Male'}\n",
        "\n",
        "def img_to_display(filename):\n",
        "    # inspired on this kernel:\n",
        "    # https://www.kaggle.com/stassl/displaying-inline-images-in-pandas-dataframe\n",
        "    # credits to stassl :)\n",
        "    \n",
        "    i = Image.open(filename)\n",
        "    i.thumbnail((200, 200), Image.LANCZOS)\n",
        "    \n",
        "    with BytesIO() as buffer:\n",
        "        i.save(buffer, 'jpeg')\n",
        "        return base64.b64encode(buffer.getvalue()).decode()\n",
        "    \n",
        "\n",
        "def display_result(filename, prediction, target):\n",
        "    '''\n",
        "    Display the results in HTML\n",
        "    \n",
        "    '''\n",
        "\n",
        "    gender = 'Male'\n",
        "    gender_icon = \"https://i.imgur.com/nxWan2u.png\"\n",
        "        \n",
        "    if prediction[1] <= 0.5:\n",
        "        gender_icon = \"https://i.imgur.com/oAAb8rd.png\"\n",
        "        gender = 'Female'\n",
        "            \n",
        "    display_html = '''\n",
        "    <div style=\"overflow: auto;  border: 2px solid #D8D8D8;\n",
        "        padding: 5px; width: 420px;\" >\n",
        "        <img src=\"data:image/jpeg;base64,{}\" style=\"float: left;\" width=\"200\" height=\"200\">\n",
        "        <div style=\"padding: 10px 0px 0px 20px; overflow: auto;\">\n",
        "            <img src=\"{}\" style=\"float: left;\" width=\"40\" height=\"40\">\n",
        "            <h3 style=\"margin-left: 50px; margin-top: 2px;\">{}</h3>\n",
        "            <p style=\"margin-left: 50px; margin-top: -6px; font-size: 12px\">{} prob.</p>\n",
        "            <p style=\"margin-left: 50px; margin-top: -16px; font-size: 12px\">Real Target: {}</p>\n",
        "            <p style=\"margin-left: 50px; margin-top: -16px; font-size: 12px\">Filename: {}</p>\n",
        "        </div>\n",
        "    </div>\n",
        "    '''.format(img_to_display(filename)\n",
        "               , gender_icon\n",
        "               , gender\n",
        "               , \"{0:.2f}%\".format(round(max(prediction)*100,2))\n",
        "               , gender_target[target]\n",
        "               , filename.split('/')[-1]\n",
        "               )\n",
        "\n",
        "    display(HTML(display_html))"
      ]
    },
    {
      "cell_type": "code",
      "execution_count": null,
      "metadata": {
        "_uuid": "19c28df51f9d3421ca2a89452ccc3f89509ff127",
        "id": "TXQ39cbU95Ku"
      },
      "outputs": [],
      "source": [
        "def gender_prediction(filename):\n",
        "    '''\n",
        "    predict the gender\n",
        "    \n",
        "    input:\n",
        "        filename: str of the file name\n",
        "        \n",
        "    return:\n",
        "        array of the prob of the targets.\n",
        "    \n",
        "    '''\n",
        "    \n",
        "    im = cv2.imread(filename)\n",
        "    im = cv2.resize(cv2.cvtColor(im, cv2.COLOR_BGR2RGB), (178, 218)).astype(np.float32) / 255.0\n",
        "    im = np.expand_dims(im, axis =0)\n",
        "    \n",
        "    # prediction\n",
        "    result = model_.predict(im)\n",
        "    prediction = np.argmax(result)\n",
        "    \n",
        "    return result\n",
        "    "
      ]
    },
    {
      "cell_type": "code",
      "execution_count": null,
      "metadata": {
        "_uuid": "c272e8b54cccf4138f6ff806292ab4e5cda97db9",
        "id": "LlqXg5kU95Kv"
      },
      "outputs": [],
      "source": [
        "#select random images of the test partition\n",
        "df_to_test = df_par_attr[(df_par_attr['partition'] == 2)].sample(8)\n",
        "\n",
        "for index, target in df_to_test.iterrows():\n",
        "    result = gender_prediction(images_folder + index)\n",
        "    \n",
        "    #display result\n",
        "    display_result(images_folder + index, result[0], target['Male'])"
      ]
    },
    {
      "cell_type": "markdown",
      "metadata": {
        "_uuid": "3aaf4c37ac1a9f914ec939b4f3c706f1418f1856",
        "id": "pZflZvw995Kw"
      },
      "source": [
        "I hope you enjoyed this Notebook :) Please feel free to ask me question you may have or make improvements to the Notebook. Cheers!"
      ]
    }
  ],
  "metadata": {
    "accelerator": "GPU",
    "colab": {
      "provenance": [],
      "include_colab_link": true
    },
    "gpuClass": "standard",
    "kernelspec": {
      "display_name": "Python 3 (ipykernel)",
      "language": "python",
      "name": "python3"
    },
    "language_info": {
      "codemirror_mode": {
        "name": "ipython",
        "version": 3
      },
      "file_extension": ".py",
      "mimetype": "text/x-python",
      "name": "python",
      "nbconvert_exporter": "python",
      "pygments_lexer": "ipython3",
      "version": "3.9.13"
    }
  },
  "nbformat": 4,
  "nbformat_minor": 0
}